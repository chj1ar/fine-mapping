{
 "cells": [
  {
   "cell_type": "markdown",
   "metadata": {
    "kernel": "SoS"
   },
   "source": [
    "# Usage and bug\n",
    "Directly run this pipeline with `./Multi_tissues.ipynb`.\n",
    "However, you will see an error `./Multi_tissues.ipynb: line 133: syntax error: unexpected end of file`"
   ]
  },
  {
   "cell_type": "code",
   "execution_count": 1,
   "metadata": {
    "kernel": "SoS"
   },
   "outputs": [],
   "source": [
    "[Z]\n",
    "R:\n",
    "    filenames <- list.files(path = \"/project/compbio/GTEx_dbGaP/GTEx_Analysis_2017-06-05_v8/eqtl/GTEx_Analysis_v8_eQTL_covariates\", pattern = \"*.txt\", full.names = TRUE)\n",
    "    Z <- lapply(filenames, function(x) t(as.matrix(read.table(file = x, header = TRUE, sep = '\\t', quote = \"\", row.names = 1))))"
   ]
  },
  {
   "cell_type": "code",
   "execution_count": null,
   "metadata": {
    "kernel": "SoS"
   },
   "outputs": [],
   "source": [
    "[y]\n",
    "bash:\n",
    "    zless /project/compbio/GTEx_dbGaP/GTEx_Analysis_2017-06-05_v8/eqtl/GTEx_Analysis_v8_eQTL_expression_matrices/*.gz | grep ENSG00000140265 > /scratch/midway2/chj1ar/GTEx_Analysis_v8_eQTL_expression_genewise/ENSG00000140265.txt \n",
    "R:\n",
    "    y_raw <- scan(file = \"/scratch/midway2/chj1ar/GTEx_Analysis_v8_eQTL_expression_genewise/ENSG00000140265.txt\", what = \"\", sep = \"\\n\")\n",
    "    y <- strsplit(x = y_raw, split = \"[[:space:]]+\")\n",
    "    y <- lapply(y, function(x) x[-1:-4])\n",
    "    y <- lapply(y, as.numeric)"
   ]
  },
  {
   "cell_type": "code",
   "execution_count": null,
   "metadata": {
    "kernel": "SoS"
   },
   "outputs": [],
   "source": [
    "[X]\n",
    "bash:\n",
    "    awk '$4 ~ /ENSG00000140265/ {print $0}' /scratch/midway2/chj1ar/GTEx_Analysis_v8_eQTL_expression_genewise/gene_TSS.csv | head -n 1 | awk '{$3=$2+1000000} {$2=$2-1000000} {print $1\"\\t\"$2\"\\t\"$3\"\\t\"$4}' > /scratch/midway2/chj1ar/GTEx_Analysis_v8_eQTL_expression_genewise/ENSG00000140265.bed\n",
    "    tabix /project/compbio/GTEx_dbGaP/GTEx_Analysis_2017-06-05_v8/genotypes/WGS/variant_calls/GTEx_Analysis_2017-06-05_v8_WholeGenomeSeq_838Indiv_Analysis_Freeze.SHAPEIT2_phased.vcf.gz chr15:42358172-44358172 | sed -e 's/0|0/0/g' -e 's/0|1/1/g' -e 's/1|0/1/g' -e 's/1|1/2/g' > /scratch/midway2/chj1ar/GTEx_Analysis_v8_eQTL_expression_genewise/ENSG00000140265_genotype.txt\n",
    "    \n",
    "R:\n",
    "    X <- read.csv(file = \"/scratch/midway2/chj1ar/GTEx_Analysis_v8_eQTL_expression_genewise/ENSG00000140265_genotype.txt\", sep = '\\t', header = FALSE, row.names = 3, stringsAsFactors = FALSE)\n",
    "    X <- X[,-(1:8)]\n",
    "    samplenames_X <- scan(file = \"/scratch/midway2/chj1ar/GTEx_Analysis_v8_eQTL_expression_genewise/samplenames_X.txt\", what = character(), quote = \"\")\n",
    "    samplenames_X <- samplenames_X[-(1:9)]\n",
    "    colnames(X) <- samplenames_X\n",
    "    X <- as.matrix(x = X)\n",
    "    X <- t(X)"
   ]
  },
  {
   "cell_type": "code",
   "execution_count": null,
   "metadata": {
    "kernel": "SoS"
   },
   "outputs": [],
   "source": [
    "[y_res]\n",
    "R:\n",
    "    y_res <- lapply(1:49, function(i) .lm.fit(x = Z[[i]], y = y[[i]])$residuals)"
   ]
  },
  {
   "cell_type": "code",
   "execution_count": null,
   "metadata": {
    "kernel": "SoS"
   },
   "outputs": [],
   "source": [
    "[save]\n",
    "R:\n",
    "    saveRDS(object = list(X = X, y = y, Z = Z, y_res = y_res), file = \"/scratch/midway2/chj1ar/GTEx_Analysis_v8_eQTL_expression_genewise/Multi_Tissues.ENSG00000140265.RDS\")"
   ]
  },
  {
   "cell_type": "code",
   "execution_count": null,
   "metadata": {
    "kernel": "SoS"
   },
   "outputs": [],
   "source": []
  }
 ],
 "metadata": {
  "kernelspec": {
   "display_name": "SoS",
   "language": "sos",
   "name": "sos"
  },
  "language_info": {
   "codemirror_mode": "sos",
   "file_extension": ".sos",
   "mimetype": "text/x-sos",
   "name": "sos",
   "nbconvert_exporter": "sos_notebook.converter.SoS_Exporter",
   "pygments_lexer": "sos"
  },
  "sos": {
   "kernels": [],
   "panel": {
    "displayed": true,
    "height": 0
   },
   "version": "0.19.13"
  },
  "toc": {
   "base_numbering": 1,
   "nav_menu": {},
   "number_sections": true,
   "sideBar": true,
   "skip_h1_title": false,
   "title_cell": "Table of Contents",
   "title_sidebar": "Contents",
   "toc_cell": false,
   "toc_position": {},
   "toc_section_display": true,
   "toc_window_display": false
  }
 },
 "nbformat": 4,
 "nbformat_minor": 2
}
