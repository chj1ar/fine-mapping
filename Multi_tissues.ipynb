{
 "cells": [
  {
   "cell_type": "code",
   "execution_count": 1,
   "metadata": {
    "kernel": "SoS"
   },
   "outputs": [],
   "source": [
    "# extract Z, y, X from covariates, expression and genotype data and generate y_res\n",
    "[extract]\n",
    "parameter: ensembl_gene_id = str\n",
    "bash: expand = True\n",
    "    # X\n",
    "    awk '$4 ~ /{ensembl_gene_id}/ {{print $0}}' /scratch/midway2/chj1ar/GTEx_Analysis_v8_eQTL_expression_genewise/gene_TSS.csv | head -n 1 | awk '{{$3=$2+1000000}} {{$2=$2-1000000}} {{print \"chr\"$1\":\"$2\"-\"$3}}' > /scratch/midway2/chj1ar/GTEx_Analysis_v8_eQTL_expression_genewise/{ensembl_gene_id}_TSSregion.txt\n",
    "    tabix /project/compbio/GTEx_dbGaP/GTEx_Analysis_2017-06-05_v8/genotypes/WGS/variant_calls/GTEx_Analysis_2017-06-05_v8_WholeGenomeSeq_838Indiv_Analysis_Freeze.SHAPEIT2_phased.vcf.gz \"$(< /scratch/midway2/chj1ar/GTEx_Analysis_v8_eQTL_expression_genewise/{ensembl_gene_id}_TSSregion.txt)\" | sed -e 's/0|0/0/g' -e 's/0|1/1/g' -e 's/1|0/1/g' -e 's/1|1/2/g' > /scratch/midway2/chj1ar/GTEx_Analysis_v8_eQTL_expression_genewise/{ensembl_gene_id}_genotype.txt\n",
    "    \n",
    "R: expand = True\n",
    "    # Z\n",
    "    filenames <- list.files(path = \"/project/compbio/GTEx_dbGaP/GTEx_Analysis_2017-06-05_v8/eqtl/GTEx_Analysis_v8_eQTL_covariates\", pattern = \"*.txt\", full.names = TRUE)\n",
    "    Z <- lapply(filenames, function(x) t(as.matrix(read.table(file = x, header = TRUE, sep = '\\t', quote = \"\", row.names = 1))))\n",
    "    for (i in 1:49) {{ # the format of sample names Z was changed somehow, from \"GTEX-*\" to \"GTEX.*\", so we need to convert it back.\n",
    "        rownames(Z[[i]]) <- gsub(pattern = \"GTEX.\", replacement = \"GTEX-\", x = rownames(Z[[i]]))\n",
    "    }}\n",
    "    \n",
    "    # y\n",
    "    filenames_y <- list.files(path = \"/project/compbio/GTEx_dbGaP/GTEx_Analysis_2017-06-05_v8/eqtl/GTEx_Analysis_v8_eQTL_expression_matrices\", pattern = \"*.gz$\", full.names = TRUE)\n",
    "    \n",
    "    extract_y <- function(x) {{ # This function is extremely time-consuming, perhaps a couple of minutes each gene.\n",
    "        y_total <- scan(file = x, what = \"\", sep = \"\\n\")\n",
    "        y <- strsplit(x = y_total, split = \"[[:space:]]+\") # The most time-consuming step\n",
    "        cond_tmp <- lapply(y, function(x) grepl(pattern = \"{ensembl_gene_id}\", x = x[4]))\n",
    "        y_tmp <- as.matrix(data.frame(y[unlist(cond_tmp)], row.names = y[[1]], stringsAsFactors = FALSE))\n",
    "        colnames(y_tmp) = \"\"\n",
    "        y_tmp <- y_tmp[-1:-4, , drop = FALSE]\n",
    "        return(y_tmp)\n",
    "    }}\n",
    "    \n",
    "    y <- lapply(filenames_y, extract_y)\n",
    "    \n",
    "    ## sample names matching between y and Z\n",
    "    samplenamesmatching <- function(x, reference) {{\n",
    "        lapply(1:49, function(i) x[[i]][match(rownames(reference[[i]]), rownames(x[[i]])), , drop = FALSE])\n",
    "    }}\n",
    "    \n",
    "    y_matchZ <- samplenamesmatching(x = y, reference = Z)\n",
    "    y <- y_matchZ\n",
    "    \n",
    "    # X\n",
    "    X <- read.csv(file = \"/scratch/midway2/chj1ar/GTEx_Analysis_v8_eQTL_expression_genewise/{ensembl_gene_id}_genotype.txt\", sep = '\\t', header = FALSE, row.names = 3, stringsAsFactors = FALSE)\n",
    "    X <- X[,-(1:8)]\n",
    "    samplenames_X <- scan(file = \"/scratch/midway2/chj1ar/GTEx_Analysis_v8_eQTL_expression_genewise/samplenames_X.txt\", what = character(), quote = \"\")\n",
    "    samplenames_X <- samplenames_X[-(1:9)]\n",
    "    colnames(X) <- samplenames_X\n",
    "    X <- as.matrix(x = X)\n",
    "    X <- t(X)\n",
    "    \n",
    "    # y_res\n",
    "    y_res <- lapply(1:49, function(i) .lm.fit(x = Z[[i]], y = y[[i]])$residuals)\n",
    "\n",
    "    # save\n",
    "    saveRDS(object = list(X = X, y = y, Z = Z, y_res = y_res), file = \"/scratch/midway2/chj1ar/GTEx_Analysis_v8_eQTL_expression_genewise/Multi_Tissues.{ensembl_gene_id}.RDS\")\n",
    "\n"
   ]
  },
  {
   "cell_type": "code",
   "execution_count": null,
   "metadata": {
    "kernel": "SoS"
   },
   "outputs": [],
   "source": []
  },
  {
   "cell_type": "code",
   "execution_count": null,
   "metadata": {
    "kernel": "SoS"
   },
   "outputs": [],
   "source": []
  },
  {
   "cell_type": "code",
   "execution_count": null,
   "metadata": {
    "kernel": "SoS"
   },
   "outputs": [],
   "source": []
  },
  {
   "cell_type": "code",
   "execution_count": null,
   "metadata": {
    "kernel": "SoS"
   },
   "outputs": [],
   "source": []
  },
  {
   "cell_type": "code",
   "execution_count": null,
   "metadata": {
    "kernel": "SoS"
   },
   "outputs": [],
   "source": []
  }
 ],
 "metadata": {
  "kernelspec": {
   "display_name": "SoS",
   "language": "sos",
   "name": "sos"
  },
  "language_info": {
   "codemirror_mode": "sos",
   "file_extension": ".sos",
   "mimetype": "text/x-sos",
   "name": "sos",
   "nbconvert_exporter": "sos_notebook.converter.SoS_Exporter",
   "pygments_lexer": "sos"
  },
  "sos": {
   "kernels": [],
   "panel": {
    "displayed": true,
    "height": 0
   },
   "version": "0.19.13"
  },
  "toc": {
   "base_numbering": 1,
   "nav_menu": {},
   "number_sections": true,
   "sideBar": true,
   "skip_h1_title": false,
   "title_cell": "Table of Contents",
   "title_sidebar": "Contents",
   "toc_cell": false,
   "toc_position": {},
   "toc_section_display": true,
   "toc_window_display": false
  }
 },
 "nbformat": 4,
 "nbformat_minor": 2
}
