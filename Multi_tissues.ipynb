{
 "cells": [
  {
   "cell_type": "markdown",
   "metadata": {
    "kernel": "SoS"
   },
   "source": [
    "# Individual-level genotype-expression data generation\n",
    "\n",
    "## Goal\n",
    "This pipeline aims to extract individual-level genotype-expression data in preparation for cis-eQTL fine-mapping.\n",
    "\n",
    "## Overview of methods\n",
    "Specifically, we are to organize the genotype, expression, and covariates data into a gene-wise form, i.e., a data file per gene. Besides, we need the expression data 'perpendicular' to covariates, which will be used for regression with genotype, in instrument variable idea.\n",
    "\n",
    "## Details of methods\n",
    "covariates (`Z`): This is independent of genes, so this is the same among files and can be directly copied from the original covariates data.\n",
    "\n",
    "expression (`y`): As `grep` is too time-consuming, we construct `gene:line_number` as preprocessing. For each gene, the `line_number` is the line numbers of the gene in the #{tissues} expression data files. As a result, to extract the expression of each gene, it is only the job of reading the lines in the files, and combining the lines together.\n",
    "\n",
    "genotype (`X`): Obtain TSS of all genes as preprocessing. Once querying a gene, take the TSS of the gene, extracting SNPs within a predefined flanking region around the TSS and treating their genotypes as X.\n",
    "\n",
    "expression 'perpendicular' to covariates (`y_res`): The part of expression data that is independent from covariates.\n",
    "\n",
    "### Crystallized plan for generating y with the main step `gene:line_number`\n",
    "\n",
    "1) extract the column of ensembl_gene_id in the 49 expression files by `pandas`\n",
    "\n",
    "2) assign `gene:line_number` for each gene in each tissue based on the extracted column just now\n",
    "\n",
    "3) for each gene, extract the row of expression of the gene with sample names in each tissue using `sed`\n",
    "\n",
    "4) that's it!"
   ]
  },
  {
   "cell_type": "markdown",
   "metadata": {
    "kernel": "SoS"
   },
   "source": [
    "# Documentation\n",
    "\n",
    "## Input\n",
    "genotype data all in a file and expression and covariates data organized tissue-wise.\n",
    "\n",
    "- genotype: .vcf.gz\n",
    "\n",
    "```\n",
    "    #CHROM  POS     ID      REF     ALT     QUAL    FILTER  INFO    FORMAT  GTEX-1117F      GTEX-111CU      GTEX-111FC      GTEX-111VG      GTEX-111YS      GTEX-1122O\n",
    "    chr1    13526   chr1_13526_C_T_b38      C       T       .       PASS    AN=1676;AF=0.000596659;AC=1     GT      0|0     0|0     0|0     0|0     0|0     0|0\n",
    "```    \n",
    "\n",
    "- expression: .bed.gz\n",
    "```\n",
    "    #chr    start   end     gene_id GTEX-1117F      GTEX-111CU      GTEX-111FC      GTEX-111VG      GTEX-111YS      GTEX-1122O      GTEX-1128S\n",
    "    chr1    29552   29553   ENSG00000227232.5       1.3135329173730264      -0.9007944960568992     -0.29268956046586164    -0.7324113622418431     -0.27475411245874887    -0.6990255198601908     0.18188866123299216\n",
    "```\n",
    "\n",
    "- covariates: .txt\n",
    "```\n",
    "    ID      GTEX-1117F      GTEX-111CU      GTEX-111FC      GTEX-111VG      GTEX-111YS\n",
    "    PC1     -0.0867  0.0107  0.0099  0.0144  0.0154\n",
    "    PC2     -0.0132 -0.0026 -0.0050 -0.0081 -0.0093\n",
    "```    \n",
    "\n",
    "## Output\n",
    "An RDS file containing genotype specific for each gene and expression and covariates of each gene.\n"
   ]
  },
  {
   "cell_type": "code",
   "execution_count": 1,
   "metadata": {
    "kernel": "Bash"
   },
   "outputs": [
    {
     "name": "stdout",
     "output_type": "stream",
     "text": [
      "usage: sos run Multi_tissues.ipynb [workflow_name | -t targets] [options] [workflow_options]\n",
      "  workflow_name:        Single or combined workflows defined in this script\n",
      "  targets:              One or more targets to generate\n",
      "  options:              Single-hyphen sos parameters (see \"sos run -h\" for details)\n",
      "  workflow_options:     Double-hyphen workflow-specific parameters\n",
      "\n",
      "Workflows:\n",
      "  get_gene_meta\n",
      "  get_sample_names\n",
      "  preprocess\n",
      "  extract\n",
      "\n",
      "Global Workflow Options:\n",
      "  --cwd output (as path)\n",
      "  --expression-data  paths(glob('/project2/compbio/GTEx_dbGaP/GTEx_Analysis_2017-06-05_v8/eqtl/GTEx_Analysis_v8_eQTL_expression_matrices/*.gz'))\n",
      "\n",
      "  --genotype-data /project2/compbio/GTEx_dbGaP/GTEx_Analysis_2017-06-05_v8/genotypes/WGS/variant_calls/GTEx_Analysis_2017-06-05_v8_WholeGenomeSeq_838Indiv_Analysis_Freeze.SHAPEIT2_phased.vcf.gz (as path)\n",
      "  --covariates-data  paths(glob('/project2/compbio/GTEx_dbGaP/GTEx_Analysis_2017-06-05_v8/eqtl/GTEx_Analysis_v8_eQTL_covariates/*.txt'))\n",
      "\n",
      "  --gene-id-file  path(f\"{cwd:a}/ensembl_gene_id.txt\")\n",
      "\n",
      "\n",
      "Sections\n",
      "  get_gene_meta_1:      get gene-line mappping\n",
      "  get_gene_meta_2:      TSS for genes\n",
      "  get_gene_meta_3:      get all gene names\n",
      "  get_sample_names:\n",
      "  preprocess:\n",
      "  extract:\n"
     ]
    }
   ],
   "source": [
    "sos run Multi_tissues.ipynb -h"
   ]
  },
  {
   "cell_type": "markdown",
   "metadata": {
    "kernel": "SoS"
   },
   "source": [
    "## Example\n",
    "\n",
    "**You can edit and change the following bash variable.** First edit and run the following bash variable.\n",
    "```\n",
    "work_dir=/scratch/midway2/chj1ar/GTEx_Analysis_v8_eQTL_expression_genewise\n",
    "```\n",
    "Then run as follows:\n",
    "\n",
    "```\n",
    "cd $work_dir\n",
    "sos run Multi_tissues.ipynb preprocess\n",
    "sos run Multi_tissues.ipynb extract\n",
    "```\n",
    "\n",
    "## Minimal working example\n",
    "\n",
    "\n",
    "If you want to only extract a self-defined list, eg, first 10 genes from the gene_id_file, \n",
    "\n",
    "```\n",
    "work_dir=/scratch/midway2/chj1ar/GTEx_Analysis_v8_eQTL_expression_genewise\n",
    "cd $work_dir\n",
    "sos run Multi_tissues.ipynb preprocess\n",
    "head -10 output/ensembl_gene_id.txt > /tmp/test.txt\n",
    "sos run Multi_tissues.ipynb extract --gene-id-file /tmp/test.txt\n",
    "```"
   ]
  },
  {
   "cell_type": "code",
   "execution_count": null,
   "metadata": {
    "kernel": "SoS"
   },
   "outputs": [],
   "source": [
    "[global]\n",
    "from glob import glob\n",
    "parameter: cwd = path('./output')\n",
    "parameter: expression_data = paths(glob('/project2/compbio/GTEx_dbGaP/GTEx_Analysis_2017-06-05_v8/eqtl/GTEx_Analysis_v8_eQTL_expression_matrices/*.gz'))\n",
    "parameter: genotype_data = path('/project2/compbio/GTEx_dbGaP/GTEx_Analysis_2017-06-05_v8/genotypes/WGS/variant_calls/GTEx_Analysis_2017-06-05_v8_WholeGenomeSeq_838Indiv_Analysis_Freeze.SHAPEIT2_phased.vcf.gz')\n",
    "parameter: covariates_data = paths(glob('/project2/compbio/GTEx_dbGaP/GTEx_Analysis_2017-06-05_v8/eqtl/GTEx_Analysis_v8_eQTL_covariates/*.txt'))\n",
    "parameter: gene_id_file = path(f\"{cwd:a}/ensembl_gene_id.txt\")"
   ]
  },
  {
   "cell_type": "markdown",
   "metadata": {
    "kernel": "SoS"
   },
   "source": [
    "## Preprocessing"
   ]
  },
  {
   "cell_type": "code",
   "execution_count": null,
   "metadata": {
    "kernel": "SoS"
   },
   "outputs": [],
   "source": [
    "# get gene-line mappping\n",
    "[get_gene_meta_1]\n",
    "input: expression_data, group_by = 1\n",
    "output: f\"{cwd:a}/{_input:bnn}.gene_line.json\"\n",
    "python3: expand = '${ }'\n",
    "    import pandas as pd\n",
    "    gene_id = pd.read_csv(${_input:r}, sep='\\t', compression='gzip', header=0, skip_blank_lines=False, usecols = [3])\n",
    "    gene_linenum = dict([(x,y+1) for y, x in enumerate(gene_id['gene_id'].tolist())])\n",
    "    import json\n",
    "    with open(${_output:r}, 'w') as outfile:\n",
    "        json.dump({${_input:r}:gene_linenum}, outfile)\n",
    "\n",
    "# TSS for genes\n",
    "[get_gene_meta_2]\n",
    "input: expression_data\n",
    "output: f\"{gene_id_file:an}.TSS.txt\"\n",
    "bash: expand = '${ }', workdir = cwd\n",
    "    zless ${_input} | awk '{print $1\"\\t\"$2\"\\t\"$3\"\\t\"$4}' | sort -u | sed 's/^...//' > ${_output}\n",
    "    \n",
    "# get all gene names\n",
    "[get_gene_meta_3]\n",
    "output: gene_id_file\n",
    "bash: expand = '${ }', workdir = cwd\n",
    "    awk '{print $4}' ${_input} | sed 1d | sort -u > ${_output}"
   ]
  },
  {
   "cell_type": "code",
   "execution_count": null,
   "metadata": {
    "kernel": "SoS"
   },
   "outputs": [],
   "source": [
    "[get_sample_names]\n",
    "depends: executable('bcftools')\n",
    "input: genotype_data\n",
    "output: f\"{cwd:a}/samplenames_X.txt\"\n",
    "bash: expand=True\n",
    "    bcftools query -l {_input} > {_output}\n",
    "    \n",
    "[preprocess]\n",
    "sos_run('get_gene_meta + get_sample_names')"
   ]
  },
  {
   "cell_type": "markdown",
   "metadata": {
    "kernel": "SoS"
   },
   "source": [
    "## Data extraction"
   ]
  },
  {
   "cell_type": "code",
   "execution_count": 2,
   "metadata": {
    "kernel": "SoS"
   },
   "outputs": [],
   "source": [
    "[extract]\n",
    "depends: executable('tabix'), R_library(\"data.table\"), R_library('rjson'), R_library('tools')\n",
    "genes = open(gene_id_file).read().splitlines()\n",
    "input: for_each = 'genes'\n",
    "output: f\"{cwd:a}/{_genes}.Multi_Tissues.RDS\"\n",
    "\n",
    "task:\n",
    "\n",
    "bash: expand = '${ }', workdir = cwd\n",
    "    # X\n",
    "    tabix -f ${genotype_data} `awk '$4 ~ /${_genes}/ {print $0}' ${gene_id_file:an}.TSS.txt | head -n 1 | awk '{$3=$2+1000000} {$2=$2-1000000} {print \"chr\"$1\":\"$2\"-\"$3}'` \\\n",
    "        | sed -e 's/0|0/0/g' -e 's/0|1/1/g' -e 's/1|0/1/g' -e 's/1|1/2/g' > ${_genes}_genotype.txt # still remain a potential problem of multi-allelic case.\n",
    "\n",
    "R: expand = \"${ }\", workdir = cwd\n",
    "    # Z\n",
    "    Z <- lapply(c(${covariates_data:r,}), function(x) t(as.matrix(read.table(file = x, header = TRUE, sep = '\\t', quote = \"\", row.names = 1))))\n",
    "    for (i in 1:length(Z)) {\n",
    "        rownames(Z[[i]]) <- gsub(pattern = \"GTEX.\", replacement = \"GTEX-\", x = rownames(Z[[i]])) # the format of sample names Z was changed somehow, from \"GTEX-*\" to \"GTEX.*\", so we need to convert it back.\n",
    "        names(Z)[[i]] <- strsplit(x = c(${covariates_data:br,})[i], split = \"[.]\")[[1]][1] # add tissue names, so as to match with those of y\n",
    "    }\n",
    "    \n",
    "    # y\n",
    "\n",
    "    filenames_json <- list.files(path = ${cwd:ar}, pattern = \"*.json$\", full.names = TRUE)\n",
    "    line_numbers <- lapply(filenames_json, function(x) rjson::fromJSON(file=x))\n",
    "  \n",
    "    extract_y <- function(y_file, line) {\n",
    "        if (is.null(line)) return(NULL)\n",
    "        # a sed version here\n",
    "        # cmd <- paste0(\"zcat \", y_file, \" | sed '\", line, \"q;d'\")\n",
    "        # yi <- data.table::fread(cmd=cmd)\n",
    "        yi <- data.table::fread(file = y_file, skip = line - 1, nrows = 1)\n",
    "        samplenames_yi <- data.table::fread(file = y_file, skip = 0, nrows = 1)\n",
    "        colnames(yi) <- colnames(samplenames_yi)\n",
    "        yi <- t(as.matrix(yi))\n",
    "        yi <- yi[-1:-4, , drop = FALSE]\n",
    "        # colnames(yi) <- file_path_sans_ext(file_path_sans_ext(basename(y_file))) # y_file:bnn, add tissue names\n",
    "        return(yi)\n",
    "    }\n",
    "    \n",
    "    y <- lapply(line_numbers, function(x) extract_y(names(x), x[[1]][[\"${_genes}\"]]))\n",
    "    for (i in 1:length(y)) {\n",
    "        names(y)[[i]] <- strsplit(x = basename(names(line_numbers[[i]])), split = '[.]')[[1]][1]\n",
    "    }\n",
    "    y[sapply(y, is.null)] <- NULL\n",
    "    \n",
    "    ## tissue names matching between y and Z (y as reference)\n",
    "    \n",
    "    tissuenamesmatching <- function(x, reference) {\n",
    "        x[match(names(reference), names(x))] # match list names\n",
    "    }\n",
    "    \n",
    "    Z <- tissuenamesmatching(x = Z, reference = y)\n",
    "    \n",
    "    ## sample names matching between y and Z (Z as reference)\n",
    "    \n",
    "    samplenamesmatching <- function(x, reference) {\n",
    "        lapply(1:length(reference), function(i) x[[i]][match(rownames(reference[[i]]), rownames(x[[i]])), , drop = FALSE]) # match sample names within each dataframe\n",
    "    }\n",
    "    \n",
    "    y <- samplenamesmatching(x = y, reference = Z)\n",
    "    \n",
    "    # X\n",
    "    X <- read.csv(file = \"${cwd:a}/${_genes}_genotype.txt\", sep = '\\t', header = FALSE, row.names = 3, stringsAsFactors = FALSE)\n",
    "    X <- X[,-(1:8)]\n",
    "    samplenames_X <- scan(file = \"${cwd:a}/samplenames_X.txt\", what = character(), quote = \"\")\n",
    "    colnames(X) <- samplenames_X\n",
    "    X <- as.matrix(x = X)\n",
    "    X <- t(X)\n",
    "    \n",
    "    # y_res\n",
    "    y_res <- lapply(1:length(Z), function(i) .lm.fit(x = Z[[i]], y = y[[i]])$residuals)\n",
    "\n",
    "    # save\n",
    "    saveRDS(object = list(X = X, y = y, Z = Z, y_res = y_res), file = ${_output:r})\n",
    "  \n",
    "bash: expand = '${ }', workdir = cwd\n",
    "    # remove intermediate files\n",
    "    rm ${_genes}_genotype.txt"
   ]
  }
 ],
 "metadata": {
  "kernelspec": {
   "display_name": "SoS",
   "language": "sos",
   "name": "sos"
  },
  "language_info": {
   "codemirror_mode": "sos",
   "file_extension": ".sos",
   "mimetype": "text/x-sos",
   "name": "sos",
   "nbconvert_exporter": "sos_notebook.converter.SoS_Exporter",
   "pygments_lexer": "sos"
  },
  "sos": {
   "kernels": [
    [
     "Bash",
     "bash",
     "bash",
     "",
     "shell"
    ],
    [
     "SoS",
     "sos",
     "",
     "",
     "sos"
    ]
   ],
   "panel": {
    "displayed": true,
    "height": 0
   },
   "version": "0.19.16"
  },
  "toc": {
   "base_numbering": 1,
   "nav_menu": {},
   "number_sections": true,
   "sideBar": true,
   "skip_h1_title": false,
   "title_cell": "Table of Contents",
   "title_sidebar": "Contents",
   "toc_cell": false,
   "toc_position": {},
   "toc_section_display": true,
   "toc_window_display": false
  }
 },
 "nbformat": 4,
 "nbformat_minor": 4
}
